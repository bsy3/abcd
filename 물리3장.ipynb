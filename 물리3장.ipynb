{
  "nbformat": 4,
  "nbformat_minor": 0,
  "metadata": {
    "colab": {
      "provenance": [],
      "authorship_tag": "ABX9TyObYRzLRxUtVyfAjtZON4oA",
      "include_colab_link": true
    },
    "kernelspec": {
      "name": "python3",
      "display_name": "Python 3"
    },
    "language_info": {
      "name": "python"
    }
  },
  "cells": [
    {
      "cell_type": "markdown",
      "metadata": {
        "id": "view-in-github",
        "colab_type": "text"
      },
      "source": [
        "<a href=\"https://colab.research.google.com/github/bsy3/abcd/blob/main/%EB%AC%BC%EB%A6%AC3%EC%9E%A5.ipynb\" target=\"_parent\"><img src=\"https://colab.research.google.com/assets/colab-badge.svg\" alt=\"Open In Colab\"/></a>"
      ]
    },
    {
      "cell_type": "code",
      "execution_count": null,
      "metadata": {
        "id": "Qh9OAXaFHgR7"
      },
      "outputs": [],
      "source": [
        "import math"
      ]
    },
    {
      "cell_type": "code",
      "source": [
        "#초기속도 입력\n",
        "vo=float(input())\n",
        "print(\"초기속도:\",vo,\"e/s\")"
      ],
      "metadata": {
        "colab": {
          "base_uri": "https://localhost:8080/"
        },
        "id": "85UWtFNdJSid",
        "outputId": "54f8081b-ecf2-4b1e-dddc-be025dc682d2"
      },
      "execution_count": null,
      "outputs": [
        {
          "output_type": "stream",
          "name": "stdout",
          "text": [
            "30\n",
            "초기속도: 30.0 e/s\n"
          ]
        }
      ]
    },
    {
      "cell_type": "code",
      "source": [
        "#초기 각도 입력\n",
        "angle_degree=float(input())\n",
        "print(\"초기각도:\",angle_degree,\"도\")\n",
        "\n",
        "#각도를 radian으로 바꾸기\n",
        "angle_degree=math.radians(angle_degree)\n",
        "print(\"초기각도:\",angle_degree,\"radian\")"
      ],
      "metadata": {
        "colab": {
          "base_uri": "https://localhost:8080/"
        },
        "id": "sJU0YIKML9dN",
        "outputId": "dc995ca9-c66d-4d13-f9ba-de85de938b12"
      },
      "execution_count": null,
      "outputs": [
        {
          "output_type": "stream",
          "name": "stdout",
          "text": [
            "30\n",
            "초기각도: 30.0 도\n",
            "초기각도: 0.5235987755982988 radian\n"
          ]
        }
      ]
    },
    {
      "cell_type": "code",
      "source": [
        "#x 성분의 속도를 구하시오\n",
        "v0x = math.cos(angle_degree)  * vo\n",
        "print(\"x축의 초기속도:\",v0x, \"m/s\")"
      ],
      "metadata": {
        "colab": {
          "base_uri": "https://localhost:8080/"
        },
        "id": "Y3fSHhBlOMTc",
        "outputId": "215fba83-632c-434d-c10c-2653674a9a3a"
      },
      "execution_count": null,
      "outputs": [
        {
          "output_type": "stream",
          "name": "stdout",
          "text": [
            "x축의 초기속도: 25.98076211353316 m/s\n"
          ]
        }
      ]
    }
  ]
}