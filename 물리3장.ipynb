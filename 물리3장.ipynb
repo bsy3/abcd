{
  "nbformat": 4,
  "nbformat_minor": 0,
  "metadata": {
    "colab": {
      "provenance": [],
      "authorship_tag": "ABX9TyMuQdVlmORLp6x1AGYZ+kYP",
      "include_colab_link": true
    },
    "kernelspec": {
      "name": "python3",
      "display_name": "Python 3"
    },
    "language_info": {
      "name": "python"
    }
  },
  "cells": [
    {
      "cell_type": "markdown",
      "metadata": {
        "id": "view-in-github",
        "colab_type": "text"
      },
      "source": [
        "<a href=\"https://colab.research.google.com/github/bsy3/abcd/blob/main/%EB%AC%BC%EB%A6%AC3%EC%9E%A5.ipynb\" target=\"_parent\"><img src=\"https://colab.research.google.com/assets/colab-badge.svg\" alt=\"Open In Colab\"/></a>"
      ]
    },
    {
      "cell_type": "code",
      "execution_count": null,
      "metadata": {
        "id": "Qh9OAXaFHgR7"
      },
      "outputs": [],
      "source": [
        "import math"
      ]
    },
    {
      "cell_type": "code",
      "source": [
        "#초기속도 입력\n",
        "vo=float(input())\n",
        "print(\"초기속도:\",vo,\"e/s\")"
      ],
      "metadata": {
        "colab": {
          "base_uri": "https://localhost:8080/"
        },
        "id": "85UWtFNdJSid",
        "outputId": "54f8081b-ecf2-4b1e-dddc-be025dc682d2"
      },
      "execution_count": null,
      "outputs": [
        {
          "output_type": "stream",
          "name": "stdout",
          "text": [
            "30\n",
            "초기속도: 30.0 e/s\n"
          ]
        }
      ]
    },
    {
      "cell_type": "code",
      "source": [
        "#초기 각도 입력\n",
        "angle_degree=float(input())\n",
        "print(\"초기각도:\",angle_degree,\"도\")\n",
        "\n",
        "#각도를 radian으로 바꾸기\n",
        "angle_degree=math.radians(angle_degree)\n",
        "print(\"초기각도:\",angle_degree,\"radian\")"
      ],
      "metadata": {
        "colab": {
          "base_uri": "https://localhost:8080/"
        },
        "id": "sJU0YIKML9dN",
        "outputId": "dc995ca9-c66d-4d13-f9ba-de85de938b12"
      },
      "execution_count": null,
      "outputs": [
        {
          "output_type": "stream",
          "name": "stdout",
          "text": [
            "30\n",
            "초기각도: 30.0 도\n",
            "초기각도: 0.5235987755982988 radian\n"
          ]
        }
      ]
    },
    {
      "cell_type": "code",
      "source": [
        "#x 성분의 속도를 구하시오\n",
        "v0x = math.cos(angle_degree)  * vo\n",
        "print(\"x축의 초기속도:\",v0x, \"m/s\")"
      ],
      "metadata": {
        "colab": {
          "base_uri": "https://localhost:8080/"
        },
        "id": "Y3fSHhBlOMTc",
        "outputId": "215fba83-632c-434d-c10c-2653674a9a3a"
      },
      "execution_count": null,
      "outputs": [
        {
          "output_type": "stream",
          "name": "stdout",
          "text": [
            "x축의 초기속도: 25.98076211353316 m/s\n"
          ]
        }
      ]
    },
    {
      "cell_type": "code",
      "source": [
        "#Y 성분의 속도를 구하시오\n",
        "v0y = math.sin(angle_degree) * vo\n",
        "print(\"Y축의 초기속도:\", vOy, \"m/s\")"
      ],
      "metadata": {
        "colab": {
          "base_uri": "https://localhost:8080/"
        },
        "id": "iS3MYPkgScQb",
        "outputId": "5265b239-1dfe-4170-8170-7ccadb579d6a"
      },
      "execution_count": 31,
      "outputs": [
        {
          "output_type": "stream",
          "name": "stdout",
          "text": [
            "Y축의 초기속도: 14.999999999999998 m/s\n"
          ]
        }
      ]
    },
    {
      "cell_type": "code",
      "source": [
        "#최고점 높이\n",
        "g= 9.8\n",
        "h_max = (v0x **2) / (2 * g)\n",
        "print(\"최고점 높이:\", h_max, \"m\")"
      ],
      "metadata": {
        "id": "bqF_1qsUU3VK",
        "outputId": "af40f43d-b94c-4491-9837-82c72d1dabe6",
        "colab": {
          "base_uri": "https://localhost:8080/"
        }
      },
      "execution_count": 26,
      "outputs": [
        {
          "output_type": "stream",
          "name": "stdout",
          "text": [
            "최고점 높이: 11.47959183673469 m\n"
          ]
        }
      ]
    },
    {
      "cell_type": "code",
      "source": [
        "#최고점 도달시간\n",
        "t_max = vOy / g\n",
        "print(\"최고점 도달 시간:\", t_max, \"초\")"
      ],
      "metadata": {
        "colab": {
          "base_uri": "https://localhost:8080/"
        },
        "id": "jXJiAH5mWmMC",
        "outputId": "52bac435-9f70-4418-9919-a5222f870798"
      },
      "execution_count": 34,
      "outputs": [
        {
          "output_type": "stream",
          "name": "stdout",
          "text": [
            "최고점 도달 시간: 1.5306122448979589 초\n"
          ]
        }
      ]
    },
    {
      "cell_type": "code",
      "source": [
        "# 수평으로 이동한 거리 구하기\n",
        "t_total = 2 * t_max  # 전체 비행 시간\n",
        "dist = v0x * t_total\n",
        "print(\"수평 이동 거리:\", dist, \"m\")"
      ],
      "metadata": {
        "id": "yKV_wd26XCgB",
        "outputId": "d6a4e64d-3d4b-47b0-f154-9af5636b7495",
        "colab": {
          "base_uri": "https://localhost:8080/"
        }
      },
      "execution_count": 36,
      "outputs": [
        {
          "output_type": "stream",
          "name": "stdout",
          "text": [
            "수평 이동 거리: 45.91836734693876 m\n"
          ]
        }
      ]
    },
    {
      "cell_type": "code",
      "source": [
        " # 지면에 닿을 때의 Vx, Vy와 V 구하기\n",
        "vy_end = -v0y\n",
        "v_end = math.sqrt(v0x**2 + vy_end**2)\n",
        "print(\"지면에 닿을 때 x 방향 속도:\", v0x, \"m/s\")\n",
        "print(\"지면에 닿을 때 y 방향 속도:\", vy_end, \"m/s\")\n",
        "print(\"지면에 닿을 때 속도 크기:\", v_end, \"m/s\")\n",
        "print(\"속도 벡터 성분: (\", v0x, \",\", vy_end, \")\")"
      ],
      "metadata": {
        "colab": {
          "base_uri": "https://localhost:8080/"
        },
        "id": "hcl8mW4CW1fB",
        "outputId": "98f17bfd-b6e7-4914-f3bc-5ccda4a633e2"
      },
      "execution_count": 38,
      "outputs": [
        {
          "output_type": "stream",
          "name": "stdout",
          "text": [
            "지면에 닿을 때 x 방향 속도: 14.999999999999998 m/s\n",
            "지면에 닿을 때 y 방향 속도: -14.999999999999998 m/s\n",
            "지면에 닿을 때 속도 크기: 21.213203435596423 m/s\n",
            "속도 벡터 성분: ( 14.999999999999998 , -14.999999999999998 )\n"
          ]
        }
      ]
    }
  ]
}